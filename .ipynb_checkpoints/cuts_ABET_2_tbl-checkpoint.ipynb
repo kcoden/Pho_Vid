{
 "cells": [
  {
   "cell_type": "code",
   "execution_count": null,
   "metadata": {},
   "outputs": [],
   "source": [
    "# cuts from initial.ipynb"
   ]
  },
  {
   "cell_type": "code",
   "execution_count": 3,
   "metadata": {},
   "outputs": [],
   "source": [
    "# large_rew = data.Arg1_Value == 0.3"
   ]
  },
  {
   "cell_type": "code",
   "execution_count": 4,
   "metadata": {},
   "outputs": [],
   "source": [
    "# forced_trial = data.Group_ID == 9"
   ]
  },
  {
   "cell_type": "code",
   "execution_count": 5,
   "metadata": {},
   "outputs": [],
   "source": [
    "# free_trial = data.Group_ID == 12"
   ]
  },
  {
   "cell_type": "code",
   "execution_count": 6,
   "metadata": {},
   "outputs": [],
   "source": [
    "# filtered  = data[large_rew & free_trial]"
   ]
  },
  {
   "cell_type": "code",
   "execution_count": null,
   "metadata": {},
   "outputs": [],
   "source": [
    "#logic for indicating trial ends, \n",
    "is_trial_end = (data.Item_Name == \"Feeder #2\") | (data['Item_Name'].str.contains(\"_omission\")) | (data.Item_Name == \"BlankSide_touch_during_ForcedTrial\")\n",
    "data[\"is_trial_end\"] = is_trial_end\n",
    "data[\"is_trial_end\"].value_counts()\n",
    "data[\"trial_end\"] = np.cumsum(data[\"is_trial_end\"])\n",
    "data[\"trial_end\"].max()"
   ]
  }
 ],
 "metadata": {
  "kernelspec": {
   "display_name": "Python 3",
   "language": "python",
   "name": "python3"
  },
  "language_info": {
   "codemirror_mode": {
    "name": "ipython",
    "version": 3
   },
   "file_extension": ".py",
   "mimetype": "text/x-python",
   "name": "python",
   "nbconvert_exporter": "python",
   "pygments_lexer": "ipython3",
   "version": "3.7.3"
  }
 },
 "nbformat": 4,
 "nbformat_minor": 4
}
