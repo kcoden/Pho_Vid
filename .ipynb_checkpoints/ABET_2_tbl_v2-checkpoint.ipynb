{
 "cells": [
  {
   "cell_type": "code",
   "execution_count": 51,
   "metadata": {},
   "outputs": [],
   "source": [
    "import pandas as pd\n",
    "import numpy as np"
   ]
  },
  {
   "cell_type": "code",
   "execution_count": 52,
   "metadata": {},
   "outputs": [],
   "source": [
    "# read in behavioral data as .csv\n",
    "# eventually will write this more flexibly as a function (so users can give a filename externally)\n",
    "data = pd.read_csv(\"74 12042019.csv\") "
   ]
  },
  {
   "cell_type": "code",
   "execution_count": 53,
   "metadata": {},
   "outputs": [],
   "source": [
    "#Time values < 0 are housekeeping variables reported by the software. Safe to filter these out so they do not get counted as trials, etc.\n",
    "filter_time_zero = data.Evnt_Time != 0\n",
    "filter_time_zero.values\n",
    "data = data[filter_time_zero]"
   ]
  },
  {
   "cell_type": "code",
   "execution_count": 54,
   "metadata": {},
   "outputs": [
    {
     "data": {
      "text/plain": [
       "164"
      ]
     },
     "execution_count": 54,
     "metadata": {},
     "output_type": "execute_result"
    }
   ],
   "source": [
    "#logic for indicating new trials, adds a new column to the data frame (data) that counts the number of trials based on trial starts\n",
    "is_new_trial = (data.Item_Name == \"Forced-Choice Trials Begin\") | (data.Item_Name == \"Free-Choice Trials begin\")\n",
    "data[\"is_new_trial\"] = is_new_trial\n",
    "data[\"is_new_trial\"].value_counts()\n",
    "data[\"trial_num\"] = np.cumsum(data[\"is_new_trial\"])\n",
    "data[\"trial_num\"].max()"
   ]
  },
  {
   "cell_type": "code",
   "execution_count": 81,
   "metadata": {},
   "outputs": [],
   "source": [
    "def make_table(data):\n",
    "    # add new functions here\n",
    "    BlockNum = get_block(data)\n",
    "    trial_type = get_trial_type(data)\n",
    "    rew_type = rew_size(data)\n",
    "#     RewSize = rew_size(data)\n",
    "#     Forced_Free = ForceFree(data)\n",
    "\n",
    "    return pd.Series({\"BlockNum\": BlockNum,\n",
    "                     \"trial_type\": trial_type,\n",
    "                     \"rew_type\": rew_type})\n",
    "#     return pd.Series({\"BlockNum\": BlockNum},{\"RewSize\": RewSize})\n",
    "   \n",
    "    \n",
    "\n",
    "def get_block(data):\n",
    "    is_block_1 = data[data[\"Item_Name\"] == \"Session1\"][\"Arg1_Value\"]\n",
    "    is_block_2 = data[data[\"Item_Name\"] == \"Session2\"][\"Arg1_Value\"]\n",
    "    is_block_3 = data[data[\"Item_Name\"] == \"Session3\"][\"Arg1_Value\"]\n",
    "    \n",
    "    if is_block_1.any():\n",
    "        return 1\n",
    "    elif is_block_2.any():\n",
    "        return 2\n",
    "    elif is_block_3.any():\n",
    "        return 3\n",
    "\n",
    "# def rew_size(data):\n",
    "#     is_large_rew = (data.Arg1_Value == 0.3)\n",
    "#     is_small_rew = (data.Arg1_Value == 1.2)\n",
    "    \n",
    "#     if is_large_rew.any():\n",
    "#         return 1.2\n",
    "#     elif is_small_rew.any():\n",
    "#         return 0.3\n",
    "\n",
    "# def ForceFree(data):\n",
    "#     is_forced_trial = (data.Item_Name == \"Forced-Choice Trials Begin\")\n",
    "#     is_free_trial = (data.Item_Name == \"Free-Choice Trials begin\")\n",
    "    \n",
    "#     if is_forced_trial.any():\n",
    "#         return 0\n",
    "#     elif is_free_trial.any():\n",
    "#         return 1\n",
    "\n",
    "# def Shock(data):\n",
    "#     y_shk = (data.Item_Name == \"shock_on_off\") & (data.)"
   ]
  },
  {
   "cell_type": "code",
   "execution_count": 50,
   "metadata": {},
   "outputs": [
    {
     "data": {
      "text/plain": [
       "BlockNum    1\n",
       "dtype: int64"
      ]
     },
     "execution_count": 50,
     "metadata": {},
     "output_type": "execute_result"
    }
   ],
   "source": [
    "make_table(data)"
   ]
  },
  {
   "cell_type": "code",
   "execution_count": 60,
   "metadata": {},
   "outputs": [],
   "source": [
    "t1 = data.loc[data[\"trial_num\"] == 1]"
   ]
  },
  {
   "cell_type": "code",
   "execution_count": 61,
   "metadata": {},
   "outputs": [
    {
     "data": {
      "text/html": [
       "<div>\n",
       "<style scoped>\n",
       "    .dataframe tbody tr th:only-of-type {\n",
       "        vertical-align: middle;\n",
       "    }\n",
       "\n",
       "    .dataframe tbody tr th {\n",
       "        vertical-align: top;\n",
       "    }\n",
       "\n",
       "    .dataframe thead th {\n",
       "        text-align: right;\n",
       "    }\n",
       "</style>\n",
       "<table border=\"1\" class=\"dataframe\">\n",
       "  <thead>\n",
       "    <tr style=\"text-align: right;\">\n",
       "      <th></th>\n",
       "      <th>Evnt_Time</th>\n",
       "      <th>Evnt_ID</th>\n",
       "      <th>Evnt_Name</th>\n",
       "      <th>Item_Name</th>\n",
       "      <th>Alias_Name</th>\n",
       "      <th>Group_ID</th>\n",
       "      <th>Num_Args</th>\n",
       "      <th>Arg1_Name</th>\n",
       "      <th>Arg1_Value</th>\n",
       "      <th>Arg2_Name</th>\n",
       "      <th>Arg2_Value</th>\n",
       "      <th>Arg3_Name</th>\n",
       "      <th>Arg3_Value</th>\n",
       "      <th>Arg4_Name</th>\n",
       "      <th>Arg4_Value</th>\n",
       "      <th>Arg5_Name</th>\n",
       "      <th>Arg5_Value</th>\n",
       "      <th>is_new_trial</th>\n",
       "      <th>trial_num</th>\n",
       "    </tr>\n",
       "  </thead>\n",
       "  <tbody>\n",
       "    <tr>\n",
       "      <th>147</th>\n",
       "      <td>60.893</td>\n",
       "      <td>1</td>\n",
       "      <td>Condition Event</td>\n",
       "      <td>Forced-Choice Trials Begin</td>\n",
       "      <td>NaN</td>\n",
       "      <td>7</td>\n",
       "      <td>0</td>\n",
       "      <td>NaN</td>\n",
       "      <td>NaN</td>\n",
       "      <td>NaN</td>\n",
       "      <td>NaN</td>\n",
       "      <td>NaN</td>\n",
       "      <td>NaN</td>\n",
       "      <td>NaN</td>\n",
       "      <td>NaN</td>\n",
       "      <td>NaN</td>\n",
       "      <td>NaN</td>\n",
       "      <td>True</td>\n",
       "      <td>1</td>\n",
       "    </tr>\n",
       "    <tr>\n",
       "      <th>148</th>\n",
       "      <td>60.893</td>\n",
       "      <td>4</td>\n",
       "      <td>Output Off Event</td>\n",
       "      <td>TrayLight #1</td>\n",
       "      <td>NaN</td>\n",
       "      <td>7</td>\n",
       "      <td>0</td>\n",
       "      <td>NaN</td>\n",
       "      <td>NaN</td>\n",
       "      <td>NaN</td>\n",
       "      <td>NaN</td>\n",
       "      <td>NaN</td>\n",
       "      <td>NaN</td>\n",
       "      <td>NaN</td>\n",
       "      <td>NaN</td>\n",
       "      <td>NaN</td>\n",
       "      <td>NaN</td>\n",
       "      <td>False</td>\n",
       "      <td>1</td>\n",
       "    </tr>\n",
       "    <tr>\n",
       "      <th>149</th>\n",
       "      <td>60.893</td>\n",
       "      <td>32</td>\n",
       "      <td>Whisker - Display Image</td>\n",
       "      <td>Bussey Mouse Operant Mode 2 x 1 x low</td>\n",
       "      <td>Images</td>\n",
       "      <td>7</td>\n",
       "      <td>2</td>\n",
       "      <td>Position</td>\n",
       "      <td>2.0</td>\n",
       "      <td>Image 1</td>\n",
       "      <td>0.0</td>\n",
       "      <td>NaN</td>\n",
       "      <td>NaN</td>\n",
       "      <td>NaN</td>\n",
       "      <td>NaN</td>\n",
       "      <td>NaN</td>\n",
       "      <td>NaN</td>\n",
       "      <td>False</td>\n",
       "      <td>1</td>\n",
       "    </tr>\n",
       "    <tr>\n",
       "      <th>150</th>\n",
       "      <td>60.893</td>\n",
       "      <td>29</td>\n",
       "      <td>Timer Event</td>\n",
       "      <td>Presentation_timer</td>\n",
       "      <td>NaN</td>\n",
       "      <td>7</td>\n",
       "      <td>1</td>\n",
       "      <td>Value</td>\n",
       "      <td>0.0</td>\n",
       "      <td>NaN</td>\n",
       "      <td>NaN</td>\n",
       "      <td>NaN</td>\n",
       "      <td>NaN</td>\n",
       "      <td>NaN</td>\n",
       "      <td>NaN</td>\n",
       "      <td>NaN</td>\n",
       "      <td>NaN</td>\n",
       "      <td>False</td>\n",
       "      <td>1</td>\n",
       "    </tr>\n",
       "    <tr>\n",
       "      <th>151</th>\n",
       "      <td>60.893</td>\n",
       "      <td>32</td>\n",
       "      <td>Whisker - Display Image</td>\n",
       "      <td>Bussey Mouse Operant Mode 2 x 1 x low</td>\n",
       "      <td>Background</td>\n",
       "      <td>7</td>\n",
       "      <td>2</td>\n",
       "      <td>Position</td>\n",
       "      <td>1.0</td>\n",
       "      <td>Image 1</td>\n",
       "      <td>0.0</td>\n",
       "      <td>NaN</td>\n",
       "      <td>NaN</td>\n",
       "      <td>NaN</td>\n",
       "      <td>NaN</td>\n",
       "      <td>NaN</td>\n",
       "      <td>NaN</td>\n",
       "      <td>False</td>\n",
       "      <td>1</td>\n",
       "    </tr>\n",
       "  </tbody>\n",
       "</table>\n",
       "</div>"
      ],
      "text/plain": [
       "     Evnt_Time  Evnt_ID                Evnt_Name  \\\n",
       "147     60.893        1          Condition Event   \n",
       "148     60.893        4         Output Off Event   \n",
       "149     60.893       32  Whisker - Display Image   \n",
       "150     60.893       29              Timer Event   \n",
       "151     60.893       32  Whisker - Display Image   \n",
       "\n",
       "                                 Item_Name  Alias_Name  Group_ID  Num_Args  \\\n",
       "147             Forced-Choice Trials Begin         NaN         7         0   \n",
       "148                           TrayLight #1         NaN         7         0   \n",
       "149  Bussey Mouse Operant Mode 2 x 1 x low      Images         7         2   \n",
       "150                     Presentation_timer         NaN         7         1   \n",
       "151  Bussey Mouse Operant Mode 2 x 1 x low  Background         7         2   \n",
       "\n",
       "    Arg1_Name  Arg1_Value Arg2_Name  Arg2_Value Arg3_Name  Arg3_Value  \\\n",
       "147       NaN         NaN       NaN         NaN       NaN         NaN   \n",
       "148       NaN         NaN       NaN         NaN       NaN         NaN   \n",
       "149  Position         2.0   Image 1         0.0       NaN         NaN   \n",
       "150     Value         0.0       NaN         NaN       NaN         NaN   \n",
       "151  Position         1.0   Image 1         0.0       NaN         NaN   \n",
       "\n",
       "    Arg4_Name  Arg4_Value Arg5_Name  Arg5_Value  is_new_trial  trial_num  \n",
       "147       NaN         NaN       NaN         NaN          True          1  \n",
       "148       NaN         NaN       NaN         NaN         False          1  \n",
       "149       NaN         NaN       NaN         NaN         False          1  \n",
       "150       NaN         NaN       NaN         NaN         False          1  \n",
       "151       NaN         NaN       NaN         NaN         False          1  "
      ]
     },
     "execution_count": 61,
     "metadata": {},
     "output_type": "execute_result"
    }
   ],
   "source": [
    "if data[\"Item_Name\"]:"
   ]
  },
  {
   "cell_type": "code",
   "execution_count": 68,
   "metadata": {},
   "outputs": [],
   "source": [
    "row_is_forced_choice = t1[\"Item_Name\"] == \"Forced-Choice Trials Begin\"\n",
    "num_forced_choice_rows = row_is_forced_choice.sum()"
   ]
  },
  {
   "cell_type": "code",
   "execution_count": 95,
   "metadata": {},
   "outputs": [],
   "source": [
    "# row_rew_size =\n",
    "def rew_size(data):\n",
    "    return (data.loc[data[\"Item_Name\"] == \"Feeder #2\"][\"Arg1_Value\"]).values[0]\n"
   ]
  },
  {
   "cell_type": "code",
   "execution_count": 80,
   "metadata": {},
   "outputs": [],
   "source": [
    "def get_trial_type(data):\n",
    "    if (data[\"Item_Name\"] == \"Forced-Choice Trials Begin\").sum():\n",
    "        return \"Forced\"\n",
    "    elif (data[\"Item_Name\"] == \"Free-Choice Trials begin\").sum():\n",
    "        return \"Free\""
   ]
  },
  {
   "cell_type": "code",
   "execution_count": null,
   "metadata": {},
   "outputs": [],
   "source": [
    "def rew_size(data):\n",
    "    if (data[\"Item_Name\"] == \"Forced-Choice Trials Begin\").sum():\n",
    "        return \"Forced\"\n",
    "    elif (data[\"Item_Name\"] == \"Free-Choice Trials begin\").sum():\n",
    "        return \"Free\""
   ]
  },
  {
   "cell_type": "code",
   "execution_count": 82,
   "metadata": {},
   "outputs": [],
   "source": [
    "grouped_data = data.groupby(\"trial_num\")\n",
    "result = grouped_data.apply(make_table)"
   ]
  },
  {
   "cell_type": "code",
   "execution_count": 84,
   "metadata": {},
   "outputs": [
    {
     "data": {
      "text/plain": [
       "Free      113\n",
       "Forced     51\n",
       "Name: trial_type, dtype: int64"
      ]
     },
     "execution_count": 84,
     "metadata": {},
     "output_type": "execute_result"
    }
   ],
   "source": [
    "result.trial_type.value_counts()"
   ]
  },
  {
   "cell_type": "code",
   "execution_count": 92,
   "metadata": {},
   "outputs": [],
   "source": [
    "df = pd.DataFrame({\"A\": [1, 2, 3], \"B\": [5, 6, 7]})"
   ]
  },
  {
   "cell_type": "code",
   "execution_count": 94,
   "metadata": {},
   "outputs": [
    {
     "data": {
      "text/html": [
       "<div>\n",
       "<style scoped>\n",
       "    .dataframe tbody tr th:only-of-type {\n",
       "        vertical-align: middle;\n",
       "    }\n",
       "\n",
       "    .dataframe tbody tr th {\n",
       "        vertical-align: top;\n",
       "    }\n",
       "\n",
       "    .dataframe thead th {\n",
       "        text-align: right;\n",
       "    }\n",
       "</style>\n",
       "<table border=\"1\" class=\"dataframe\">\n",
       "  <thead>\n",
       "    <tr style=\"text-align: right;\">\n",
       "      <th></th>\n",
       "      <th>A</th>\n",
       "      <th>B</th>\n",
       "    </tr>\n",
       "  </thead>\n",
       "  <tbody>\n",
       "    <tr>\n",
       "      <th>1</th>\n",
       "      <td>2</td>\n",
       "      <td>6</td>\n",
       "    </tr>\n",
       "    <tr>\n",
       "      <th>2</th>\n",
       "      <td>3</td>\n",
       "      <td>7</td>\n",
       "    </tr>\n",
       "  </tbody>\n",
       "</table>\n",
       "</div>"
      ],
      "text/plain": [
       "   A  B\n",
       "1  2  6\n",
       "2  3  7"
      ]
     },
     "execution_count": 94,
     "metadata": {},
     "output_type": "execute_result"
    }
   ],
   "source": [
    "df.loc[df[\"B\"] >= 6]"
   ]
  },
  {
   "cell_type": "code",
   "execution_count": null,
   "metadata": {},
   "outputs": [],
   "source": []
  }
 ],
 "metadata": {
  "kernelspec": {
   "display_name": "Python 3",
   "language": "python",
   "name": "python3"
  },
  "language_info": {
   "codemirror_mode": {
    "name": "ipython",
    "version": 3
   },
   "file_extension": ".py",
   "mimetype": "text/x-python",
   "name": "python",
   "nbconvert_exporter": "python",
   "pygments_lexer": "ipython3",
   "version": "3.7.3"
  }
 },
 "nbformat": 4,
 "nbformat_minor": 4
}
